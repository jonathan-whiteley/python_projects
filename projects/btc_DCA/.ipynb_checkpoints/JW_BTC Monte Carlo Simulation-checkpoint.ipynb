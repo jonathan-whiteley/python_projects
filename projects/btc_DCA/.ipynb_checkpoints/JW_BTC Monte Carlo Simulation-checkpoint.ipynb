{
 "cells": [
  {
   "cell_type": "markdown",
   "metadata": {},
   "source": [
    "# Monte Carlo Simulation with Dollar-Cost Averaging"
   ]
  },
  {
   "cell_type": "markdown",
   "metadata": {},
   "source": [
    "# Import Libraries"
   ]
  },
  {
   "cell_type": "code",
   "execution_count": 21,
   "metadata": {},
   "outputs": [],
   "source": [
    "import pandas as pd\n",
    "import matplotlib.pyplot as plt\n",
    "import numpy as np\n",
    "from scipy import stats\n",
    "\n",
    "import json\n",
    "import requests\n",
    "import datetime\n",
    "import calendar\n",
    "import random"
   ]
  },
  {
   "cell_type": "code",
   "execution_count": 22,
   "metadata": {},
   "outputs": [],
   "source": [
    "H_URL = 'https://api.coindesk.com/v1/bpi/historical/close.json'\n",
    "today = date.today().strftime(\"%Y-%m-%d\")\n",
    "# API powered by CoinDesk #\n",
    "\n",
    "\n",
    "def fetch_hist_price(start_date = '2010-07-18', end_date = today):\n",
    "    \"\"\"Return historical price series of bitcoin in USD, \n",
    "    date entry in YYYY-MM-DD format, data starts 2010-07-18.\n",
    "    \"\"\"\n",
    "        \n",
    "    #Uses date parameters in API call\n",
    "    payload = {'start': start_date, 'end': end_date}\n",
    "    bpi_hist = requests.get(H_URL, params = payload).json()\n",
    "    \n",
    "    return bpi_hist[\"bpi\"]"
   ]
  },
  {
   "cell_type": "code",
   "execution_count": 23,
   "metadata": {},
   "outputs": [
    {
     "data": {
      "text/html": [
       "<div>\n",
       "<style scoped>\n",
       "    .dataframe tbody tr th:only-of-type {\n",
       "        vertical-align: middle;\n",
       "    }\n",
       "\n",
       "    .dataframe tbody tr th {\n",
       "        vertical-align: top;\n",
       "    }\n",
       "\n",
       "    .dataframe thead th {\n",
       "        text-align: right;\n",
       "    }\n",
       "</style>\n",
       "<table border=\"1\" class=\"dataframe\">\n",
       "  <thead>\n",
       "    <tr style=\"text-align: right;\">\n",
       "      <th></th>\n",
       "      <th>Date</th>\n",
       "      <th>Close</th>\n",
       "    </tr>\n",
       "  </thead>\n",
       "  <tbody>\n",
       "    <tr>\n",
       "      <th>0</th>\n",
       "      <td>2010-07-18</td>\n",
       "      <td>0.0858</td>\n",
       "    </tr>\n",
       "    <tr>\n",
       "      <th>1</th>\n",
       "      <td>2010-07-19</td>\n",
       "      <td>0.0808</td>\n",
       "    </tr>\n",
       "    <tr>\n",
       "      <th>2</th>\n",
       "      <td>2010-07-20</td>\n",
       "      <td>0.0747</td>\n",
       "    </tr>\n",
       "    <tr>\n",
       "      <th>3</th>\n",
       "      <td>2010-07-21</td>\n",
       "      <td>0.0792</td>\n",
       "    </tr>\n",
       "    <tr>\n",
       "      <th>4</th>\n",
       "      <td>2010-07-22</td>\n",
       "      <td>0.0505</td>\n",
       "    </tr>\n",
       "    <tr>\n",
       "      <th>...</th>\n",
       "      <td>...</td>\n",
       "      <td>...</td>\n",
       "    </tr>\n",
       "    <tr>\n",
       "      <th>3920</th>\n",
       "      <td>2021-04-11</td>\n",
       "      <td>59990.8733</td>\n",
       "    </tr>\n",
       "    <tr>\n",
       "      <th>3921</th>\n",
       "      <td>2021-04-12</td>\n",
       "      <td>59856.7133</td>\n",
       "    </tr>\n",
       "    <tr>\n",
       "      <th>3922</th>\n",
       "      <td>2021-04-13</td>\n",
       "      <td>63564.8333</td>\n",
       "    </tr>\n",
       "    <tr>\n",
       "      <th>3923</th>\n",
       "      <td>2021-04-14</td>\n",
       "      <td>62954.5883</td>\n",
       "    </tr>\n",
       "    <tr>\n",
       "      <th>3924</th>\n",
       "      <td>2021-04-15</td>\n",
       "      <td>63223.7683</td>\n",
       "    </tr>\n",
       "  </tbody>\n",
       "</table>\n",
       "<p>3925 rows × 2 columns</p>\n",
       "</div>"
      ],
      "text/plain": [
       "            Date       Close\n",
       "0     2010-07-18      0.0858\n",
       "1     2010-07-19      0.0808\n",
       "2     2010-07-20      0.0747\n",
       "3     2010-07-21      0.0792\n",
       "4     2010-07-22      0.0505\n",
       "...          ...         ...\n",
       "3920  2021-04-11  59990.8733\n",
       "3921  2021-04-12  59856.7133\n",
       "3922  2021-04-13  63564.8333\n",
       "3923  2021-04-14  62954.5883\n",
       "3924  2021-04-15  63223.7683\n",
       "\n",
       "[3925 rows x 2 columns]"
      ]
     },
     "execution_count": 23,
     "metadata": {},
     "output_type": "execute_result"
    }
   ],
   "source": [
    "#Fetch bitcoin prices starting from 2010-07-18\n",
    "\n",
    "spy_start = datetime.datetime(2010,7,18)\n",
    "spy_end = datetime.date.today()\n",
    "\n",
    "btc = fetch_hist_price()\n",
    "df_spy = pd.DataFrame(list(btc.items()), columns=['Date', 'Close'])\n",
    "df_spy"
   ]
  },
  {
   "cell_type": "code",
   "execution_count": 24,
   "metadata": {},
   "outputs": [
    {
     "data": {
      "text/html": [
       "<div>\n",
       "<style scoped>\n",
       "    .dataframe tbody tr th:only-of-type {\n",
       "        vertical-align: middle;\n",
       "    }\n",
       "\n",
       "    .dataframe tbody tr th {\n",
       "        vertical-align: top;\n",
       "    }\n",
       "\n",
       "    .dataframe thead th {\n",
       "        text-align: right;\n",
       "    }\n",
       "</style>\n",
       "<table border=\"1\" class=\"dataframe\">\n",
       "  <thead>\n",
       "    <tr style=\"text-align: right;\">\n",
       "      <th></th>\n",
       "      <th>Date</th>\n",
       "      <th>Close</th>\n",
       "      <th>Year</th>\n",
       "      <th>Month</th>\n",
       "      <th>Day</th>\n",
       "    </tr>\n",
       "  </thead>\n",
       "  <tbody>\n",
       "    <tr>\n",
       "      <th>0</th>\n",
       "      <td>2010-07-18</td>\n",
       "      <td>0.0858</td>\n",
       "      <td>2010</td>\n",
       "      <td>7</td>\n",
       "      <td>18</td>\n",
       "    </tr>\n",
       "    <tr>\n",
       "      <th>1</th>\n",
       "      <td>2010-07-19</td>\n",
       "      <td>0.0808</td>\n",
       "      <td>2010</td>\n",
       "      <td>7</td>\n",
       "      <td>19</td>\n",
       "    </tr>\n",
       "    <tr>\n",
       "      <th>2</th>\n",
       "      <td>2010-07-20</td>\n",
       "      <td>0.0747</td>\n",
       "      <td>2010</td>\n",
       "      <td>7</td>\n",
       "      <td>20</td>\n",
       "    </tr>\n",
       "    <tr>\n",
       "      <th>3</th>\n",
       "      <td>2010-07-21</td>\n",
       "      <td>0.0792</td>\n",
       "      <td>2010</td>\n",
       "      <td>7</td>\n",
       "      <td>21</td>\n",
       "    </tr>\n",
       "    <tr>\n",
       "      <th>4</th>\n",
       "      <td>2010-07-22</td>\n",
       "      <td>0.0505</td>\n",
       "      <td>2010</td>\n",
       "      <td>7</td>\n",
       "      <td>22</td>\n",
       "    </tr>\n",
       "    <tr>\n",
       "      <th>...</th>\n",
       "      <td>...</td>\n",
       "      <td>...</td>\n",
       "      <td>...</td>\n",
       "      <td>...</td>\n",
       "      <td>...</td>\n",
       "    </tr>\n",
       "    <tr>\n",
       "      <th>3920</th>\n",
       "      <td>2021-04-11</td>\n",
       "      <td>59990.8733</td>\n",
       "      <td>2021</td>\n",
       "      <td>4</td>\n",
       "      <td>11</td>\n",
       "    </tr>\n",
       "    <tr>\n",
       "      <th>3921</th>\n",
       "      <td>2021-04-12</td>\n",
       "      <td>59856.7133</td>\n",
       "      <td>2021</td>\n",
       "      <td>4</td>\n",
       "      <td>12</td>\n",
       "    </tr>\n",
       "    <tr>\n",
       "      <th>3922</th>\n",
       "      <td>2021-04-13</td>\n",
       "      <td>63564.8333</td>\n",
       "      <td>2021</td>\n",
       "      <td>4</td>\n",
       "      <td>13</td>\n",
       "    </tr>\n",
       "    <tr>\n",
       "      <th>3923</th>\n",
       "      <td>2021-04-14</td>\n",
       "      <td>62954.5883</td>\n",
       "      <td>2021</td>\n",
       "      <td>4</td>\n",
       "      <td>14</td>\n",
       "    </tr>\n",
       "    <tr>\n",
       "      <th>3924</th>\n",
       "      <td>2021-04-15</td>\n",
       "      <td>63223.7683</td>\n",
       "      <td>2021</td>\n",
       "      <td>4</td>\n",
       "      <td>15</td>\n",
       "    </tr>\n",
       "  </tbody>\n",
       "</table>\n",
       "<p>3925 rows × 5 columns</p>\n",
       "</div>"
      ],
      "text/plain": [
       "            Date       Close  Year  Month  Day\n",
       "0     2010-07-18      0.0858  2010      7   18\n",
       "1     2010-07-19      0.0808  2010      7   19\n",
       "2     2010-07-20      0.0747  2010      7   20\n",
       "3     2010-07-21      0.0792  2010      7   21\n",
       "4     2010-07-22      0.0505  2010      7   22\n",
       "...          ...         ...   ...    ...  ...\n",
       "3920  2021-04-11  59990.8733  2021      4   11\n",
       "3921  2021-04-12  59856.7133  2021      4   12\n",
       "3922  2021-04-13  63564.8333  2021      4   13\n",
       "3923  2021-04-14  62954.5883  2021      4   14\n",
       "3924  2021-04-15  63223.7683  2021      4   15\n",
       "\n",
       "[3925 rows x 5 columns]"
      ]
     },
     "execution_count": 24,
     "metadata": {},
     "output_type": "execute_result"
    }
   ],
   "source": [
    "# Create columns for year, month, and day\n",
    "df_spy['Year'] = pd.DatetimeIndex(df_spy['Date']).year\n",
    "df_spy['Month'] = pd.DatetimeIndex(df_spy['Date']).month\n",
    "df_spy['Day'] = pd.DatetimeIndex(df_spy['Date']).day\n",
    "\n",
    "df_spy"
   ]
  },
  {
   "cell_type": "markdown",
   "metadata": {},
   "source": [
    "# Obtain SPY Data"
   ]
  },
  {
   "cell_type": "code",
   "execution_count": 20,
   "metadata": {
    "scrolled": true
   },
   "outputs": [
    {
     "ename": "AttributeError",
     "evalue": "type object 'datetime.datetime' has no attribute 'datetime'",
     "output_type": "error",
     "traceback": [
      "\u001b[0;31m---------------------------------------------------------------------------\u001b[0m",
      "\u001b[0;31mAttributeError\u001b[0m                            Traceback (most recent call last)",
      "\u001b[0;32m<ipython-input-20-ca9b189dce1d>\u001b[0m in \u001b[0;36m<module>\u001b[0;34m\u001b[0m\n\u001b[1;32m      2\u001b[0m \u001b[0;34m\u001b[0m\u001b[0m\n\u001b[1;32m      3\u001b[0m \u001b[0;31m# Inception Date (Yahoo Finance)\u001b[0m\u001b[0;34m\u001b[0m\u001b[0;34m\u001b[0m\u001b[0;34m\u001b[0m\u001b[0m\n\u001b[0;32m----> 4\u001b[0;31m \u001b[0mspy_start\u001b[0m \u001b[0;34m=\u001b[0m \u001b[0mdatetime\u001b[0m\u001b[0;34m.\u001b[0m\u001b[0mdatetime\u001b[0m\u001b[0;34m(\u001b[0m\u001b[0;36m1993\u001b[0m\u001b[0;34m,\u001b[0m\u001b[0;36m1\u001b[0m\u001b[0;34m,\u001b[0m\u001b[0;36m22\u001b[0m\u001b[0;34m)\u001b[0m\u001b[0;34m\u001b[0m\u001b[0;34m\u001b[0m\u001b[0m\n\u001b[0m\u001b[1;32m      5\u001b[0m \u001b[0;34m\u001b[0m\u001b[0m\n\u001b[1;32m      6\u001b[0m \u001b[0;31m# Today's Date\u001b[0m\u001b[0;34m\u001b[0m\u001b[0;34m\u001b[0m\u001b[0;34m\u001b[0m\u001b[0m\n",
      "\u001b[0;31mAttributeError\u001b[0m: type object 'datetime.datetime' has no attribute 'datetime'"
     ]
    }
   ],
   "source": [
    "# Import SPY data (inception date to present) from Yahoo Finance\n",
    "\n",
    "# Inception Date (Yahoo Finance)\n",
    "spy_start = datetime.datetime(1993,1,22)\n",
    "\n",
    "# Today's Date\n",
    "spy_end = datetime.date.today()\n",
    "\n",
    "# Pull Data\n",
    "df_spy = web.DataReader('SPY','yahoo',spy_start,spy_end)\n",
    "\n",
    "# Reset index after creating date column\n",
    "df_spy = df_spy.reset_index()\n",
    "df_spy"
   ]
  },
  {
   "cell_type": "code",
   "execution_count": 4,
   "metadata": {
    "scrolled": true
   },
   "outputs": [
    {
     "data": {
      "text/html": [
       "<div>\n",
       "<style scoped>\n",
       "    .dataframe tbody tr th:only-of-type {\n",
       "        vertical-align: middle;\n",
       "    }\n",
       "\n",
       "    .dataframe tbody tr th {\n",
       "        vertical-align: top;\n",
       "    }\n",
       "\n",
       "    .dataframe thead th {\n",
       "        text-align: right;\n",
       "    }\n",
       "</style>\n",
       "<table border=\"1\" class=\"dataframe\">\n",
       "  <thead>\n",
       "    <tr style=\"text-align: right;\">\n",
       "      <th></th>\n",
       "      <th>Date</th>\n",
       "      <th>Close</th>\n",
       "      <th>Adj Close</th>\n",
       "      <th>Year</th>\n",
       "      <th>Month</th>\n",
       "      <th>Day</th>\n",
       "    </tr>\n",
       "  </thead>\n",
       "  <tbody>\n",
       "    <tr>\n",
       "      <th>0</th>\n",
       "      <td>1993-01-29</td>\n",
       "      <td>43.937500</td>\n",
       "      <td>26.299288</td>\n",
       "      <td>1993</td>\n",
       "      <td>1</td>\n",
       "      <td>29</td>\n",
       "    </tr>\n",
       "    <tr>\n",
       "      <th>1</th>\n",
       "      <td>1993-02-01</td>\n",
       "      <td>44.250000</td>\n",
       "      <td>26.486324</td>\n",
       "      <td>1993</td>\n",
       "      <td>2</td>\n",
       "      <td>1</td>\n",
       "    </tr>\n",
       "    <tr>\n",
       "      <th>2</th>\n",
       "      <td>1993-02-02</td>\n",
       "      <td>44.343750</td>\n",
       "      <td>26.542448</td>\n",
       "      <td>1993</td>\n",
       "      <td>2</td>\n",
       "      <td>2</td>\n",
       "    </tr>\n",
       "    <tr>\n",
       "      <th>3</th>\n",
       "      <td>1993-02-03</td>\n",
       "      <td>44.812500</td>\n",
       "      <td>26.822998</td>\n",
       "      <td>1993</td>\n",
       "      <td>2</td>\n",
       "      <td>3</td>\n",
       "    </tr>\n",
       "    <tr>\n",
       "      <th>4</th>\n",
       "      <td>1993-02-04</td>\n",
       "      <td>45.000000</td>\n",
       "      <td>26.935240</td>\n",
       "      <td>1993</td>\n",
       "      <td>2</td>\n",
       "      <td>4</td>\n",
       "    </tr>\n",
       "    <tr>\n",
       "      <th>...</th>\n",
       "      <td>...</td>\n",
       "      <td>...</td>\n",
       "      <td>...</td>\n",
       "      <td>...</td>\n",
       "      <td>...</td>\n",
       "      <td>...</td>\n",
       "    </tr>\n",
       "    <tr>\n",
       "      <th>6864</th>\n",
       "      <td>2020-05-04</td>\n",
       "      <td>283.570007</td>\n",
       "      <td>283.570007</td>\n",
       "      <td>2020</td>\n",
       "      <td>5</td>\n",
       "      <td>4</td>\n",
       "    </tr>\n",
       "    <tr>\n",
       "      <th>6865</th>\n",
       "      <td>2020-05-05</td>\n",
       "      <td>286.190002</td>\n",
       "      <td>286.190002</td>\n",
       "      <td>2020</td>\n",
       "      <td>5</td>\n",
       "      <td>5</td>\n",
       "    </tr>\n",
       "    <tr>\n",
       "      <th>6866</th>\n",
       "      <td>2020-05-06</td>\n",
       "      <td>284.250000</td>\n",
       "      <td>284.250000</td>\n",
       "      <td>2020</td>\n",
       "      <td>5</td>\n",
       "      <td>6</td>\n",
       "    </tr>\n",
       "    <tr>\n",
       "      <th>6867</th>\n",
       "      <td>2020-05-07</td>\n",
       "      <td>287.679993</td>\n",
       "      <td>287.679993</td>\n",
       "      <td>2020</td>\n",
       "      <td>5</td>\n",
       "      <td>7</td>\n",
       "    </tr>\n",
       "    <tr>\n",
       "      <th>6868</th>\n",
       "      <td>2020-05-08</td>\n",
       "      <td>292.440002</td>\n",
       "      <td>292.440002</td>\n",
       "      <td>2020</td>\n",
       "      <td>5</td>\n",
       "      <td>8</td>\n",
       "    </tr>\n",
       "  </tbody>\n",
       "</table>\n",
       "<p>6869 rows × 6 columns</p>\n",
       "</div>"
      ],
      "text/plain": [
       "           Date       Close   Adj Close  Year  Month  Day\n",
       "0    1993-01-29   43.937500   26.299288  1993      1   29\n",
       "1    1993-02-01   44.250000   26.486324  1993      2    1\n",
       "2    1993-02-02   44.343750   26.542448  1993      2    2\n",
       "3    1993-02-03   44.812500   26.822998  1993      2    3\n",
       "4    1993-02-04   45.000000   26.935240  1993      2    4\n",
       "...         ...         ...         ...   ...    ...  ...\n",
       "6864 2020-05-04  283.570007  283.570007  2020      5    4\n",
       "6865 2020-05-05  286.190002  286.190002  2020      5    5\n",
       "6866 2020-05-06  284.250000  284.250000  2020      5    6\n",
       "6867 2020-05-07  287.679993  287.679993  2020      5    7\n",
       "6868 2020-05-08  292.440002  292.440002  2020      5    8\n",
       "\n",
       "[6869 rows x 6 columns]"
      ]
     },
     "execution_count": 4,
     "metadata": {},
     "output_type": "execute_result"
    }
   ],
   "source": [
    "# Create columns for year, month, and day\n",
    "df_spy['Year'] = pd.DatetimeIndex(df_spy['Date']).year\n",
    "df_spy['Month'] = pd.DatetimeIndex(df_spy['Date']).month\n",
    "df_spy['Day'] = pd.DatetimeIndex(df_spy['Date']).day\n",
    "\n",
    "# Drop High, Low, Open, and Volume columns\n",
    "df_spy = df_spy.drop(['High','Low','Open','Volume'],axis=1)\n",
    "\n",
    "df_spy"
   ]
  },
  {
   "cell_type": "code",
   "execution_count": 5,
   "metadata": {},
   "outputs": [
    {
     "name": "stderr",
     "output_type": "stream",
     "text": [
      "C:\\Users\\mchin\\Anaconda3\\lib\\site-packages\\pandas\\plotting\\_matplotlib\\converter.py:103: FutureWarning: Using an implicitly registered datetime converter for a matplotlib plotting method. The converter was registered by pandas on import. Future versions of pandas will require you to explicitly register matplotlib converters.\n",
      "\n",
      "To register the converters:\n",
      "\t>>> from pandas.plotting import register_matplotlib_converters\n",
      "\t>>> register_matplotlib_converters()\n",
      "  warnings.warn(msg, FutureWarning)\n"
     ]
    },
    {
     "data": {
      "image/png": "[encoded data removed]",
      "text/plain": [
       "<Figure size 432x288 with 1 Axes>"
      ]
     },
     "metadata": {
      "needs_background": "light"
     },
     "output_type": "display_data"
    }
   ],
   "source": [
    "# Visualize Data\n",
    "plt.plot(df_spy['Date'],df_spy['Close'])\n",
    "plt.plot(df_spy['Date'],df_spy['Adj Close'])\n",
    "plt.xlabel('Date')\n",
    "plt.ylabel('Share Price ($)')\n",
    "plt.legend(['Close Price','Adjusted Close Price'])\n",
    "plt.title('SPY Lifetime History')\n",
    "plt.show()"
   ]
  },
  {
   "cell_type": "markdown",
   "metadata": {},
   "source": [
    "# Obtain VOO Data"
   ]
  },
  {
   "cell_type": "code",
   "execution_count": 6,
   "metadata": {
    "scrolled": true
   },
   "outputs": [
    {
     "data": {
      "text/html": [
       "<div>\n",
       "<style scoped>\n",
       "    .dataframe tbody tr th:only-of-type {\n",
       "        vertical-align: middle;\n",
       "    }\n",
       "\n",
       "    .dataframe tbody tr th {\n",
       "        vertical-align: top;\n",
       "    }\n",
       "\n",
       "    .dataframe thead th {\n",
       "        text-align: right;\n",
       "    }\n",
       "</style>\n",
       "<table border=\"1\" class=\"dataframe\">\n",
       "  <thead>\n",
       "    <tr style=\"text-align: right;\">\n",
       "      <th></th>\n",
       "      <th>Date</th>\n",
       "      <th>High</th>\n",
       "      <th>Low</th>\n",
       "      <th>Open</th>\n",
       "      <th>Close</th>\n",
       "      <th>Volume</th>\n",
       "      <th>Adj Close</th>\n",
       "    </tr>\n",
       "  </thead>\n",
       "  <tbody>\n",
       "    <tr>\n",
       "      <th>0</th>\n",
       "      <td>2010-09-09</td>\n",
       "      <td>102.500000</td>\n",
       "      <td>101.139999</td>\n",
       "      <td>102.500000</td>\n",
       "      <td>101.320000</td>\n",
       "      <td>26500.0</td>\n",
       "      <td>83.143929</td>\n",
       "    </tr>\n",
       "    <tr>\n",
       "      <th>1</th>\n",
       "      <td>2010-09-10</td>\n",
       "      <td>101.860001</td>\n",
       "      <td>101.300003</td>\n",
       "      <td>101.680000</td>\n",
       "      <td>101.779999</td>\n",
       "      <td>8600.0</td>\n",
       "      <td>83.521400</td>\n",
       "    </tr>\n",
       "    <tr>\n",
       "      <th>2</th>\n",
       "      <td>2010-09-13</td>\n",
       "      <td>103.139999</td>\n",
       "      <td>102.500000</td>\n",
       "      <td>102.959999</td>\n",
       "      <td>103.059998</td>\n",
       "      <td>33700.0</td>\n",
       "      <td>84.571770</td>\n",
       "    </tr>\n",
       "    <tr>\n",
       "      <th>3</th>\n",
       "      <td>2010-09-14</td>\n",
       "      <td>103.480003</td>\n",
       "      <td>102.379997</td>\n",
       "      <td>102.839996</td>\n",
       "      <td>103.040001</td>\n",
       "      <td>59400.0</td>\n",
       "      <td>84.555374</td>\n",
       "    </tr>\n",
       "    <tr>\n",
       "      <th>4</th>\n",
       "      <td>2010-09-15</td>\n",
       "      <td>103.379997</td>\n",
       "      <td>102.400002</td>\n",
       "      <td>102.620003</td>\n",
       "      <td>103.300003</td>\n",
       "      <td>9200.0</td>\n",
       "      <td>84.768715</td>\n",
       "    </tr>\n",
       "    <tr>\n",
       "      <th>...</th>\n",
       "      <td>...</td>\n",
       "      <td>...</td>\n",
       "      <td>...</td>\n",
       "      <td>...</td>\n",
       "      <td>...</td>\n",
       "      <td>...</td>\n",
       "      <td>...</td>\n",
       "    </tr>\n",
       "    <tr>\n",
       "      <th>2428</th>\n",
       "      <td>2020-05-04</td>\n",
       "      <td>260.899994</td>\n",
       "      <td>256.529999</td>\n",
       "      <td>257.920013</td>\n",
       "      <td>260.640015</td>\n",
       "      <td>4128900.0</td>\n",
       "      <td>260.640015</td>\n",
       "    </tr>\n",
       "    <tr>\n",
       "      <th>2429</th>\n",
       "      <td>2020-05-05</td>\n",
       "      <td>265.809998</td>\n",
       "      <td>262.600006</td>\n",
       "      <td>263.450012</td>\n",
       "      <td>263.040009</td>\n",
       "      <td>4437200.0</td>\n",
       "      <td>263.040009</td>\n",
       "    </tr>\n",
       "    <tr>\n",
       "      <th>2430</th>\n",
       "      <td>2020-05-06</td>\n",
       "      <td>265.109985</td>\n",
       "      <td>261.140015</td>\n",
       "      <td>264.709991</td>\n",
       "      <td>261.269989</td>\n",
       "      <td>3021400.0</td>\n",
       "      <td>261.269989</td>\n",
       "    </tr>\n",
       "    <tr>\n",
       "      <th>2431</th>\n",
       "      <td>2020-05-07</td>\n",
       "      <td>266.299988</td>\n",
       "      <td>263.899994</td>\n",
       "      <td>264.450012</td>\n",
       "      <td>264.359985</td>\n",
       "      <td>3410200.0</td>\n",
       "      <td>264.359985</td>\n",
       "    </tr>\n",
       "    <tr>\n",
       "      <th>2432</th>\n",
       "      <td>2020-05-08</td>\n",
       "      <td>269.140015</td>\n",
       "      <td>266.380005</td>\n",
       "      <td>267.529999</td>\n",
       "      <td>268.779999</td>\n",
       "      <td>3201100.0</td>\n",
       "      <td>268.779999</td>\n",
       "    </tr>\n",
       "  </tbody>\n",
       "</table>\n",
       "<p>2433 rows × 7 columns</p>\n",
       "</div>"
      ],
      "text/plain": [
       "           Date        High         Low        Open       Close     Volume  \\\n",
       "0    2010-09-09  102.500000  101.139999  102.500000  101.320000    26500.0   \n",
       "1    2010-09-10  101.860001  101.300003  101.680000  101.779999     8600.0   \n",
       "2    2010-09-13  103.139999  102.500000  102.959999  103.059998    33700.0   \n",
       "3    2010-09-14  103.480003  102.379997  102.839996  103.040001    59400.0   \n",
       "4    2010-09-15  103.379997  102.400002  102.620003  103.300003     9200.0   \n",
       "...         ...         ...         ...         ...         ...        ...   \n",
       "2428 2020-05-04  260.899994  256.529999  257.920013  260.640015  4128900.0   \n",
       "2429 2020-05-05  265.809998  262.600006  263.450012  263.040009  4437200.0   \n",
       "2430 2020-05-06  265.109985  261.140015  264.709991  261.269989  3021400.0   \n",
       "2431 2020-05-07  266.299988  263.899994  264.450012  264.359985  3410200.0   \n",
       "2432 2020-05-08  269.140015  266.380005  267.529999  268.779999  3201100.0   \n",
       "\n",
       "       Adj Close  \n",
       "0      83.143929  \n",
       "1      83.521400  \n",
       "2      84.571770  \n",
       "3      84.555374  \n",
       "4      84.768715  \n",
       "...          ...  \n",
       "2428  260.640015  \n",
       "2429  263.040009  \n",
       "2430  261.269989  \n",
       "2431  264.359985  \n",
       "2432  268.779999  \n",
       "\n",
       "[2433 rows x 7 columns]"
      ]
     },
     "execution_count": 6,
     "metadata": {},
     "output_type": "execute_result"
    }
   ],
   "source": [
    "# Import VOO data (inception date to present) from Yahoo Finance\n",
    "\n",
    "# Inception Date (Yahoo Finance)\n",
    "voo_start = datetime.datetime(2010,9,7)\n",
    "\n",
    "# Today's Date\n",
    "voo_end = datetime.date.today()\n",
    "\n",
    "# Pull Data\n",
    "df_voo = web.DataReader('VOO','yahoo',voo_start,voo_end)\n",
    "\n",
    "# Reset index after creating date column\n",
    "df_voo = df_voo.reset_index()\n",
    "df_voo"
   ]
  },
  {
   "cell_type": "code",
   "execution_count": 7,
   "metadata": {
    "scrolled": true
   },
   "outputs": [
    {
     "data": {
      "text/html": [
       "<div>\n",
       "<style scoped>\n",
       "    .dataframe tbody tr th:only-of-type {\n",
       "        vertical-align: middle;\n",
       "    }\n",
       "\n",
       "    .dataframe tbody tr th {\n",
       "        vertical-align: top;\n",
       "    }\n",
       "\n",
       "    .dataframe thead th {\n",
       "        text-align: right;\n",
       "    }\n",
       "</style>\n",
       "<table border=\"1\" class=\"dataframe\">\n",
       "  <thead>\n",
       "    <tr style=\"text-align: right;\">\n",
       "      <th></th>\n",
       "      <th>Date</th>\n",
       "      <th>Close</th>\n",
       "      <th>Adj Close</th>\n",
       "      <th>Year</th>\n",
       "      <th>Month</th>\n",
       "      <th>Day</th>\n",
       "    </tr>\n",
       "  </thead>\n",
       "  <tbody>\n",
       "    <tr>\n",
       "      <th>0</th>\n",
       "      <td>2010-09-09</td>\n",
       "      <td>101.320000</td>\n",
       "      <td>83.143929</td>\n",
       "      <td>2010</td>\n",
       "      <td>9</td>\n",
       "      <td>9</td>\n",
       "    </tr>\n",
       "    <tr>\n",
       "      <th>1</th>\n",
       "      <td>2010-09-10</td>\n",
       "      <td>101.779999</td>\n",
       "      <td>83.521400</td>\n",
       "      <td>2010</td>\n",
       "      <td>9</td>\n",
       "      <td>10</td>\n",
       "    </tr>\n",
       "    <tr>\n",
       "      <th>2</th>\n",
       "      <td>2010-09-13</td>\n",
       "      <td>103.059998</td>\n",
       "      <td>84.571770</td>\n",
       "      <td>2010</td>\n",
       "      <td>9</td>\n",
       "      <td>13</td>\n",
       "    </tr>\n",
       "    <tr>\n",
       "      <th>3</th>\n",
       "      <td>2010-09-14</td>\n",
       "      <td>103.040001</td>\n",
       "      <td>84.555374</td>\n",
       "      <td>2010</td>\n",
       "      <td>9</td>\n",
       "      <td>14</td>\n",
       "    </tr>\n",
       "    <tr>\n",
       "      <th>4</th>\n",
       "      <td>2010-09-15</td>\n",
       "      <td>103.300003</td>\n",
       "      <td>84.768715</td>\n",
       "      <td>2010</td>\n",
       "      <td>9</td>\n",
       "      <td>15</td>\n",
       "    </tr>\n",
       "    <tr>\n",
       "      <th>...</th>\n",
       "      <td>...</td>\n",
       "      <td>...</td>\n",
       "      <td>...</td>\n",
       "      <td>...</td>\n",
       "      <td>...</td>\n",
       "      <td>...</td>\n",
       "    </tr>\n",
       "    <tr>\n",
       "      <th>2428</th>\n",
       "      <td>2020-05-04</td>\n",
       "      <td>260.640015</td>\n",
       "      <td>260.640015</td>\n",
       "      <td>2020</td>\n",
       "      <td>5</td>\n",
       "      <td>4</td>\n",
       "    </tr>\n",
       "    <tr>\n",
       "      <th>2429</th>\n",
       "      <td>2020-05-05</td>\n",
       "      <td>263.040009</td>\n",
       "      <td>263.040009</td>\n",
       "      <td>2020</td>\n",
       "      <td>5</td>\n",
       "      <td>5</td>\n",
       "    </tr>\n",
       "    <tr>\n",
       "      <th>2430</th>\n",
       "      <td>2020-05-06</td>\n",
       "      <td>261.269989</td>\n",
       "      <td>261.269989</td>\n",
       "      <td>2020</td>\n",
       "      <td>5</td>\n",
       "      <td>6</td>\n",
       "    </tr>\n",
       "    <tr>\n",
       "      <th>2431</th>\n",
       "      <td>2020-05-07</td>\n",
       "      <td>264.359985</td>\n",
       "      <td>264.359985</td>\n",
       "      <td>2020</td>\n",
       "      <td>5</td>\n",
       "      <td>7</td>\n",
       "    </tr>\n",
       "    <tr>\n",
       "      <th>2432</th>\n",
       "      <td>2020-05-08</td>\n",
       "      <td>268.779999</td>\n",
       "      <td>268.779999</td>\n",
       "      <td>2020</td>\n",
       "      <td>5</td>\n",
       "      <td>8</td>\n",
       "    </tr>\n",
       "  </tbody>\n",
       "</table>\n",
       "<p>2433 rows × 6 columns</p>\n",
       "</div>"
      ],
      "text/plain": [
       "           Date       Close   Adj Close  Year  Month  Day\n",
       "0    2010-09-09  101.320000   83.143929  2010      9    9\n",
       "1    2010-09-10  101.779999   83.521400  2010      9   10\n",
       "2    2010-09-13  103.059998   84.571770  2010      9   13\n",
       "3    2010-09-14  103.040001   84.555374  2010      9   14\n",
       "4    2010-09-15  103.300003   84.768715  2010      9   15\n",
       "...         ...         ...         ...   ...    ...  ...\n",
       "2428 2020-05-04  260.640015  260.640015  2020      5    4\n",
       "2429 2020-05-05  263.040009  263.040009  2020      5    5\n",
       "2430 2020-05-06  261.269989  261.269989  2020      5    6\n",
       "2431 2020-05-07  264.359985  264.359985  2020      5    7\n",
       "2432 2020-05-08  268.779999  268.779999  2020      5    8\n",
       "\n",
       "[2433 rows x 6 columns]"
      ]
     },
     "execution_count": 7,
     "metadata": {},
     "output_type": "execute_result"
    }
   ],
   "source": [
    "# Create columns for year, month, and day\n",
    "df_voo['Year'] = pd.DatetimeIndex(df_voo['Date']).year\n",
    "df_voo['Month'] = pd.DatetimeIndex(df_voo['Date']).month\n",
    "df_voo['Day'] = pd.DatetimeIndex(df_voo['Date']).day\n",
    "\n",
    "# Drop High, Low, Open, and Volume columns\n",
    "df_voo = df_voo.drop(['High','Low','Open','Volume'],axis=1)\n",
    "\n",
    "df_voo"
   ]
  },
  {
   "cell_type": "code",
   "execution_count": 8,
   "metadata": {},
   "outputs": [
    {
     "data": {
      "image/png": "[encoded data removed]",
      "text/plain": [
       "<Figure size 432x288 with 1 Axes>"
      ]
     },
     "metadata": {
      "needs_background": "light"
     },
     "output_type": "display_data"
    }
   ],
   "source": [
    "# Visualize Data\n",
    "plt.plot(df_voo['Date'],df_voo['Close'])\n",
    "plt.plot(df_voo['Date'],df_voo['Adj Close'])\n",
    "plt.xlabel('Date')\n",
    "plt.ylabel('Share Price ($)')\n",
    "plt.legend(['Close Price','Adjusted Close Price'])\n",
    "plt.title('VOO Lifetime History')\n",
    "plt.show()"
   ]
  },
  {
   "cell_type": "code",
   "execution_count": 9,
   "metadata": {},
   "outputs": [
    {
     "data": {
      "image/png": "[encoded data removed]",
      "text/plain": [
       "<Figure size 432x288 with 1 Axes>"
      ]
     },
     "metadata": {
      "needs_background": "light"
     },
     "output_type": "display_data"
    }
   ],
   "source": [
    "# SPY and VOO\n",
    "plt.plot(df_spy['Date'],df_spy['Adj Close'],'C0')\n",
    "plt.plot(df_voo['Date'],df_voo['Adj Close'],'C1')\n",
    "plt.xlabel('Date')\n",
    "plt.ylabel('Share Price ($)')\n",
    "plt.legend(['SPY','VOO'])\n",
    "plt.title('Historical Share Prices')\n",
    "plt.show()"
   ]
  },
  {
   "cell_type": "markdown",
   "metadata": {},
   "source": [
    "# Dollar Cost Averaging (DCA) Implementation"
   ]
  },
  {
   "cell_type": "markdown",
   "metadata": {},
   "source": [
    "Invest $1000 per month in ETF. Once every month, randomly choose one day to purchase the maximum number of shares allowed with available buying power"
   ]
  },
  {
   "cell_type": "code",
   "execution_count": 10,
   "metadata": {},
   "outputs": [],
   "source": [
    "def calc_dca(stock_data, dollars, num_months):\n",
    "    # stock_data = historical data for stock\n",
    "    # dollars = recurring monthly investment\n",
    "    # num_months = number of months to calculate return for\n",
    "    \n",
    "    # Get date range (inception date to current)\n",
    "    \n",
    "    # First Date of Historical Date (First Trading Date - Not necessarily inception date)\n",
    "    min_year = min(stock_data['Date']).year\n",
    "    min_month = min(stock_data['Date']).month\n",
    "    min_day = min(stock_data['Date']).day\n",
    "    \n",
    "    # Last Date of Historical Date (Current Date)\n",
    "    max_year = max(stock_data['Date']).year\n",
    "    max_month = max(stock_data['Date']).month\n",
    "    max_day = max(stock_data['Date']).day\n",
    "\n",
    "    # If inception month is December, use January aka month = 1\n",
    "    # otherwise use the next month, aka month+1\n",
    "    # this is to account for an incomplete month when getting random date\n",
    "    if min_month == 12:\n",
    "        l_lim_month = 1\n",
    "        l_lim_year = min_year+1\n",
    "    else:\n",
    "        l_lim_month = min_month+1\n",
    "        l_lim_year = min_year\n",
    "\n",
    "    # If current month is January, subtract num_months+1 months from current \n",
    "    # ie. aka December from two years ago if num_months = 12\n",
    "    # this is to account for an incomplete month\n",
    "    quot = num_months//12 # number of full years\n",
    "    rem = num_months%12 # remaining number of months\n",
    "    \n",
    "    if max_month == 1:\n",
    "        u_lim_month_temp = 12\n",
    "        u_lim_year_temp = max_year-1\n",
    "    else:\n",
    "        u_lim_month_temp = max_month-1\n",
    "        u_lim_year_temp = max_year\n",
    "    \n",
    "    if rem > 0:        \n",
    "        u_lim_month = 12-abs(u_lim_month_temp-rem)+1\n",
    "        u_lim_year = u_lim_year_temp-quot\n",
    "    else:\n",
    "        u_lim_month = u_lim_month_temp\n",
    "        u_lim_year = u_lim_year_temp-quot\n",
    "    \n",
    "    \n",
    "    # List of valid months for randomized sampling\n",
    "    num_months_start = 12-l_lim_month+1 # number of full months in the first year\n",
    "    num_months_end = u_lim_month # number of full months in current year\n",
    "    num_months_between = (u_lim_year-l_lim_year-1)*12\n",
    "\n",
    "    num_months_total = num_months_start+num_months_end+num_months_between\n",
    "\n",
    "    # start year\n",
    "    s_y = []\n",
    "    for a in range(num_months_start):\n",
    "        year = l_lim_year\n",
    "        month = a+l_lim_month\n",
    "        s_y.append([year,month])\n",
    "\n",
    "    # end year\n",
    "    e_y = []\n",
    "    for b in range(num_months_end):\n",
    "        year = u_lim_year\n",
    "        month = b+1\n",
    "        e_y.append([year,month])\n",
    "\n",
    "    # between years\n",
    "    b_y = []\n",
    "    for c in range(u_lim_year-l_lim_year-1):\n",
    "        year = l_lim_year+c+1\n",
    "        for j in range(12):\n",
    "            month = j+1\n",
    "            b_y.append([year,month])\n",
    "\n",
    "    # all years\n",
    "    a_y = s_y+b_y+e_y\n",
    "\n",
    "    # Randomly select month to start investing\n",
    "    rand_int = np.random.random_integers(0,num_months_total-1) # randomly select inclusive to bounds\n",
    "    invest_start_year = a_y[rand_int][0]\n",
    "    invest_start_month = a_y[rand_int][1]\n",
    "    \n",
    "    # Initalize variables\n",
    "    year = [] # year of purchase\n",
    "    month = [] # month of purchase\n",
    "    day = [] # day of purchase\n",
    "    deposit = np.zeros(num_months) # deposit\n",
    "    invested = np.zeros(num_months) # total capital invested\n",
    "    close_price = [] # closing price on date of purchase\n",
    "    buy_pow_before = np.zeros(num_months) # buying power before purchase\n",
    "    num_pur = np.zeros(num_months) # number of shares purchased\n",
    "    num_owned_close = np.zeros(num_months) # number of shares owned after purchase\n",
    "    num_owned_value = np.zeros(num_months) # value of total shares owned\n",
    "    buy_pow_after = np.zeros(num_months) # buying power after purchase\n",
    "    port_value = np.zeros(num_months) # portfolio value after purchase\n",
    "\n",
    "    # Get randomized dates in each month\n",
    "    # Get number of trading days\n",
    "\n",
    "    # Create list of months for analysis\n",
    "    months_analysis = []\n",
    "    for i in range(num_months):\n",
    "        if i == 0:\n",
    "            analysis_year = invest_start_year\n",
    "            analysis_month = invest_start_month\n",
    "        elif months_analysis[i-1][1] == 12:\n",
    "            analysis_year = months_analysis[i-1][0]+1\n",
    "            analysis_month = 1\n",
    "        else:\n",
    "            analysis_year = months_analysis[i-1][0]\n",
    "            analysis_month = months_analysis[i-1][1] + 1\n",
    "        months_analysis.append([analysis_year,analysis_month])\n",
    "\n",
    "\n",
    "    # Loop to randomly select one trading day in each month and get adjusted closing price and date\n",
    "    for d in range(len(months_analysis)):\n",
    "        temp = stock_data.loc[(stock_data['Year']==months_analysis[d][0]) & (stock_data['Month']==months_analysis[d][1])]\n",
    "        rand_sample = pd.DataFrame.sample(temp)\n",
    "        rand_sample_reset_ind = rand_sample.reset_index()\n",
    "        months_analysis[d].append(rand_sample_reset_ind['Date'][0].day)\n",
    "        months_analysis[d].append(rand_sample_reset_ind['Adj Close'][0])\n",
    "\n",
    "    # \n",
    "    for e in range(num_months):\n",
    "        year.append(months_analysis[e][0])\n",
    "        month.append(months_analysis[e][1])\n",
    "        day.append(months_analysis[e][2])\n",
    "        deposit[e] += dollars\n",
    "        close_price.append(months_analysis[e][3])\n",
    "        if e == 0:\n",
    "            invested[e] += dollars\n",
    "            buy_pow_before[e] += dollars\n",
    "            num_pur[e] += (buy_pow_before[e]//close_price[e])\n",
    "            num_owned_close[e] += (num_pur[e])\n",
    "            num_owned_value[e] += (close_price[e]*num_owned_close[e])\n",
    "            buy_pow_after[e] += (buy_pow_before[e]-(num_pur[e]*close_price[e]))\n",
    "            port_value[e] += (num_owned_value[e]+buy_pow_after[e])\n",
    "        else:\n",
    "            invested[e] += (invested[e-1]+deposit[e])\n",
    "            buy_pow_before[e] += (deposit[e]+buy_pow_after[e-1])\n",
    "            num_pur[e] += (buy_pow_before[e]//close_price[e])\n",
    "            num_owned_close[e] += (num_owned_close[e-1]+num_pur[e])\n",
    "            num_owned_value[e] += (close_price[e]*num_owned_close[e])\n",
    "            buy_pow_after[e] += (buy_pow_before[e]-(num_pur[e]*close_price[e]))\n",
    "            port_value[e] += (num_owned_value[e]+buy_pow_after[e])\n",
    "\n",
    "    portfolio = pd.DataFrame(list(zip(year,month,day,deposit,close_price,invested,buy_pow_before,num_pur,\n",
    "                                     num_owned_close,num_owned_value,buy_pow_after,port_value)),\n",
    "                            columns = ['Year','Month','Day','Deposit','Close Price','Invested',\n",
    "                                      'Buying Power Before','Number of Shares Purchased',\n",
    "                                      'Number of Shares Owned at Close','Value of Number of Shares Owned',\n",
    "                                      'Buying Power after','Portfolio Value'])\n",
    "\n",
    "    ROI = (port_value[-1]-invested[-1])/invested[-1]\n",
    "    \n",
    "    return ROI"
   ]
  },
  {
   "cell_type": "markdown",
   "metadata": {},
   "source": [
    "# SPY Simulation"
   ]
  },
  {
   "cell_type": "code",
   "execution_count": 11,
   "metadata": {},
   "outputs": [
    {
     "name": "stderr",
     "output_type": "stream",
     "text": [
      "C:\\Users\\mchin\\Anaconda3\\lib\\site-packages\\ipykernel_launcher.py:82: DeprecationWarning: This function is deprecated. Please call randint(0, 314 + 1) instead\n"
     ]
    }
   ],
   "source": [
    "# SPY 12-month simulation\n",
    "num_iter = 20000\n",
    "stock_data = df_spy\n",
    "dollars = 1000\n",
    "num_months = 12\n",
    "spy12_sim_dat = []\n",
    "\n",
    "for k in range(num_iter):\n",
    "    x = calc_dca(stock_data, dollars, num_months)\n",
    "    spy12_sim_dat.append(100*x)"
   ]
  },
  {
   "cell_type": "code",
   "execution_count": 12,
   "metadata": {},
   "outputs": [
    {
     "data": {
      "text/plain": [
       "(-40, 30)"
      ]
     },
     "execution_count": 12,
     "metadata": {},
     "output_type": "execute_result"
    },
    {
     "data": {
      "image/png": "[encoded data removed]",
      "text/plain": [
       "<Figure size 432x288 with 1 Axes>"
      ]
     },
     "metadata": {
      "needs_background": "light"
     },
     "output_type": "display_data"
    }
   ],
   "source": [
    "spy_hist = plt.hist(spy12_sim_dat,bins='auto')\n",
    "plt.title('SPY ' + str(num_months) + '-month ROI Simulation (' + str(num_iter) + ' Iterations)')\n",
    "plt.xlabel(str(num_months) + '-month return (%)')\n",
    "plt.ylabel('Iterations')\n",
    "plt.xlim([-40,30])"
   ]
  },
  {
   "cell_type": "code",
   "execution_count": 13,
   "metadata": {},
   "outputs": [],
   "source": [
    "# Statistics\n",
    "spy12_stat = pd.Series(spy12_sim_dat).describe()"
   ]
  },
  {
   "cell_type": "code",
   "execution_count": 14,
   "metadata": {},
   "outputs": [
    {
     "name": "stderr",
     "output_type": "stream",
     "text": [
      "C:\\Users\\mchin\\Anaconda3\\lib\\site-packages\\ipykernel_launcher.py:82: DeprecationWarning: This function is deprecated. Please call randint(0, 266 + 1) instead\n"
     ]
    }
   ],
   "source": [
    "# SPY 60-month simulation\n",
    "num_iter = 20000\n",
    "stock_data = df_spy\n",
    "dollars = 1000\n",
    "num_months = 60\n",
    "spy60_sim_dat = []\n",
    "\n",
    "for k in range(num_iter):\n",
    "    x = calc_dca(stock_data, dollars, num_months)\n",
    "    spy60_sim_dat.append(100*x)"
   ]
  },
  {
   "cell_type": "code",
   "execution_count": 15,
   "metadata": {},
   "outputs": [
    {
     "data": {
      "text/plain": [
       "(-50, 110)"
      ]
     },
     "execution_count": 15,
     "metadata": {},
     "output_type": "execute_result"
    },
    {
     "data": {
      "image/png": "[encoded data removed]",
      "text/plain": [
       "<Figure size 432x288 with 1 Axes>"
      ]
     },
     "metadata": {
      "needs_background": "light"
     },
     "output_type": "display_data"
    }
   ],
   "source": [
    "spy_hist = plt.hist(spy60_sim_dat,bins='auto')\n",
    "plt.title('SPY ' + str(num_months) + '-month ROI Simulation (' + str(num_iter) + ' Iterations)')\n",
    "plt.xlabel(str(num_months) + '-month return (%)')\n",
    "plt.ylabel('Iterations')\n",
    "plt.xlim([-50,110])"
   ]
  },
  {
   "cell_type": "code",
   "execution_count": 16,
   "metadata": {},
   "outputs": [],
   "source": [
    "# Statistics\n",
    "spy60_stat = pd.Series(spy60_sim_dat).describe()"
   ]
  },
  {
   "cell_type": "markdown",
   "metadata": {},
   "source": [
    "# VOO Simulation"
   ]
  },
  {
   "cell_type": "code",
   "execution_count": 17,
   "metadata": {},
   "outputs": [
    {
     "name": "stderr",
     "output_type": "stream",
     "text": [
      "C:\\Users\\mchin\\Anaconda3\\lib\\site-packages\\ipykernel_launcher.py:82: DeprecationWarning: This function is deprecated. Please call randint(0, 102 + 1) instead\n"
     ]
    }
   ],
   "source": [
    "# VOO 12-month simulation\n",
    "num_iter = 10000\n",
    "stock_data = df_voo\n",
    "dollars = 1000\n",
    "num_months = 12\n",
    "voo12_sim_dat = []\n",
    "\n",
    "for k in range(num_iter):\n",
    "    x = calc_dca(stock_data, dollars, num_months)\n",
    "    voo12_sim_dat.append(100*x)"
   ]
  },
  {
   "cell_type": "code",
   "execution_count": 18,
   "metadata": {},
   "outputs": [
    {
     "data": {
      "text/plain": [
       "(-40, 30)"
      ]
     },
     "execution_count": 18,
     "metadata": {},
     "output_type": "execute_result"
    },
    {
     "data": {
      "image/png": "[encoded data removed]",
      "text/plain": [
       "<Figure size 432x288 with 1 Axes>"
      ]
     },
     "metadata": {
      "needs_background": "light"
     },
     "output_type": "display_data"
    }
   ],
   "source": [
    "voo_hist = plt.hist(voo12_sim_dat,bins='auto',color='C1')\n",
    "plt.title('VOO ' + str(num_months) + '-month ROI Simulation (' + str(num_iter) + ' Iterations)')\n",
    "plt.xlabel(str(num_months) + '-month return (%)')\n",
    "plt.ylabel('Iterations')\n",
    "plt.xlim([-40,30])"
   ]
  },
  {
   "cell_type": "code",
   "execution_count": 19,
   "metadata": {},
   "outputs": [],
   "source": [
    "# Statistics\n",
    "voo12_stat = pd.Series(voo12_sim_dat).describe()"
   ]
  },
  {
   "cell_type": "code",
   "execution_count": 20,
   "metadata": {},
   "outputs": [
    {
     "name": "stderr",
     "output_type": "stream",
     "text": [
      "C:\\Users\\mchin\\Anaconda3\\lib\\site-packages\\ipykernel_launcher.py:82: DeprecationWarning: This function is deprecated. Please call randint(0, 54 + 1) instead\n"
     ]
    }
   ],
   "source": [
    "# VOO 60-month simulation\n",
    "num_iter = 10000\n",
    "stock_data = df_voo\n",
    "dollars = 1000\n",
    "num_months = 60\n",
    "voo60_sim_dat = []\n",
    "\n",
    "for k in range(num_iter):\n",
    "    x = calc_dca(stock_data, dollars, num_months)\n",
    "    voo60_sim_dat.append(100*x)"
   ]
  },
  {
   "cell_type": "code",
   "execution_count": 21,
   "metadata": {},
   "outputs": [
    {
     "data": {
      "text/plain": [
       "(-50, 110)"
      ]
     },
     "execution_count": 21,
     "metadata": {},
     "output_type": "execute_result"
    },
    {
     "data": {
      "image/png": "[encoded data removed]",
      "text/plain": [
       "<Figure size 432x288 with 1 Axes>"
      ]
     },
     "metadata": {
      "needs_background": "light"
     },
     "output_type": "display_data"
    }
   ],
   "source": [
    "voo_hist = plt.hist(voo60_sim_dat,bins='auto',color='C1')\n",
    "plt.title('VOO ' + str(num_months) + '-month ROI Simulation (' + str(num_iter) + ' Iterations)')\n",
    "plt.xlabel(str(num_months) + '-month return (%)')\n",
    "plt.ylabel('Iterations')\n",
    "plt.xlim([-50,110])"
   ]
  },
  {
   "cell_type": "code",
   "execution_count": 22,
   "metadata": {},
   "outputs": [],
   "source": [
    "# Statistics\n",
    "voo60_stat = pd.Series(voo60_sim_dat).describe()"
   ]
  },
  {
   "cell_type": "code",
   "execution_count": 23,
   "metadata": {},
   "outputs": [
    {
     "data": {
      "text/html": [
       "<div>\n",
       "<style scoped>\n",
       "    .dataframe tbody tr th:only-of-type {\n",
       "        vertical-align: middle;\n",
       "    }\n",
       "\n",
       "    .dataframe tbody tr th {\n",
       "        vertical-align: top;\n",
       "    }\n",
       "\n",
       "    .dataframe thead th {\n",
       "        text-align: right;\n",
       "    }\n",
       "</style>\n",
       "<table border=\"1\" class=\"dataframe\">\n",
       "  <thead>\n",
       "    <tr style=\"text-align: right;\">\n",
       "      <th></th>\n",
       "      <th>SPY</th>\n",
       "      <th>VOO</th>\n",
       "    </tr>\n",
       "  </thead>\n",
       "  <tbody>\n",
       "    <tr>\n",
       "      <th>mean</th>\n",
       "      <td>4.835290</td>\n",
       "      <td>5.794401</td>\n",
       "    </tr>\n",
       "    <tr>\n",
       "      <th>std</th>\n",
       "      <td>8.439565</td>\n",
       "      <td>4.974558</td>\n",
       "    </tr>\n",
       "    <tr>\n",
       "      <th>min</th>\n",
       "      <td>-37.990679</td>\n",
       "      <td>-23.370971</td>\n",
       "    </tr>\n",
       "    <tr>\n",
       "      <th>25%</th>\n",
       "      <td>1.096024</td>\n",
       "      <td>3.700996</td>\n",
       "    </tr>\n",
       "    <tr>\n",
       "      <th>50%</th>\n",
       "      <td>6.053805</td>\n",
       "      <td>6.976162</td>\n",
       "    </tr>\n",
       "    <tr>\n",
       "      <th>75%</th>\n",
       "      <td>10.039269</td>\n",
       "      <td>8.936903</td>\n",
       "    </tr>\n",
       "    <tr>\n",
       "      <th>max</th>\n",
       "      <td>27.168728</td>\n",
       "      <td>16.485067</td>\n",
       "    </tr>\n",
       "  </tbody>\n",
       "</table>\n",
       "</div>"
      ],
      "text/plain": [
       "            SPY        VOO\n",
       "mean   4.835290   5.794401\n",
       "std    8.439565   4.974558\n",
       "min  -37.990679 -23.370971\n",
       "25%    1.096024   3.700996\n",
       "50%    6.053805   6.976162\n",
       "75%   10.039269   8.936903\n",
       "max   27.168728  16.485067"
      ]
     },
     "execution_count": 23,
     "metadata": {},
     "output_type": "execute_result"
    }
   ],
   "source": [
    "stat_12 = pd.concat([spy12_stat,voo12_stat],axis=1)\n",
    "stat_12.columns = ['SPY','VOO']\n",
    "stat_12.drop(['count'])"
   ]
  },
  {
   "cell_type": "code",
   "execution_count": 24,
   "metadata": {},
   "outputs": [
    {
     "data": {
      "text/html": [
       "<div>\n",
       "<style scoped>\n",
       "    .dataframe tbody tr th:only-of-type {\n",
       "        vertical-align: middle;\n",
       "    }\n",
       "\n",
       "    .dataframe tbody tr th {\n",
       "        vertical-align: top;\n",
       "    }\n",
       "\n",
       "    .dataframe thead th {\n",
       "        text-align: right;\n",
       "    }\n",
       "</style>\n",
       "<table border=\"1\" class=\"dataframe\">\n",
       "  <thead>\n",
       "    <tr style=\"text-align: right;\">\n",
       "      <th></th>\n",
       "      <th>SPY</th>\n",
       "      <th>VOO</th>\n",
       "    </tr>\n",
       "  </thead>\n",
       "  <tbody>\n",
       "    <tr>\n",
       "      <th>mean</th>\n",
       "      <td>27.883005</td>\n",
       "      <td>34.417106</td>\n",
       "    </tr>\n",
       "    <tr>\n",
       "      <th>std</th>\n",
       "      <td>29.553922</td>\n",
       "      <td>5.930463</td>\n",
       "    </tr>\n",
       "    <tr>\n",
       "      <th>min</th>\n",
       "      <td>-41.471978</td>\n",
       "      <td>-3.939725</td>\n",
       "    </tr>\n",
       "    <tr>\n",
       "      <th>25%</th>\n",
       "      <td>5.876389</td>\n",
       "      <td>31.823121</td>\n",
       "    </tr>\n",
       "    <tr>\n",
       "      <th>50%</th>\n",
       "      <td>29.337236</td>\n",
       "      <td>35.086169</td>\n",
       "    </tr>\n",
       "    <tr>\n",
       "      <th>75%</th>\n",
       "      <td>41.744492</td>\n",
       "      <td>37.682920</td>\n",
       "    </tr>\n",
       "    <tr>\n",
       "      <th>max</th>\n",
       "      <td>106.217828</td>\n",
       "      <td>50.515304</td>\n",
       "    </tr>\n",
       "  </tbody>\n",
       "</table>\n",
       "</div>"
      ],
      "text/plain": [
       "             SPY        VOO\n",
       "mean   27.883005  34.417106\n",
       "std    29.553922   5.930463\n",
       "min   -41.471978  -3.939725\n",
       "25%     5.876389  31.823121\n",
       "50%    29.337236  35.086169\n",
       "75%    41.744492  37.682920\n",
       "max   106.217828  50.515304"
      ]
     },
     "execution_count": 24,
     "metadata": {},
     "output_type": "execute_result"
    }
   ],
   "source": [
    "stat_60 = pd.concat([spy60_stat,voo60_stat],axis=1)\n",
    "stat_60.columns = ['SPY','VOO']\n",
    "stat_60.drop(['count'])"
   ]
  },
  {
   "cell_type": "code",
   "execution_count": null,
   "metadata": {},
   "outputs": [],
   "source": []
  }
 ],
 "metadata": {
  "kernelspec": {
   "display_name": "Python 3",
   "language": "python",
   "name": "python3"
  },
  "language_info": {
   "codemirror_mode": {
    "name": "ipython",
    "version": 3
   },
   "file_extension": ".py",
   "mimetype": "text/x-python",
   "name": "python",
   "nbconvert_exporter": "python",
   "pygments_lexer": "ipython3",
   "version": "3.8.5"
  }
 },
 "nbformat": 4,
 "nbformat_minor": 2
}
