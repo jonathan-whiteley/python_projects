{
 "cells": [
  {
   "cell_type": "markdown",
   "metadata": {},
   "source": [
    "# NLP Analysis on SP500 earnings call transcripts"
   ]
  },
  {
   "cell_type": "code",
   "execution_count": 2,
   "metadata": {},
   "outputs": [
    {
     "name": "stderr",
     "output_type": "stream",
     "text": [
      "[nltk_data] Downloading package vader_lexicon to\n",
      "[nltk_data]     /Users/jwhiteley/nltk_data...\n",
      "[nltk_data]   Package vader_lexicon is already up-to-date!\n"
     ]
    }
   ],
   "source": [
    "import pandas as pd\n",
    "import numpy as np\n",
    "import matplotlib.pyplot as plt\n",
    "import seaborn as sns\n",
    "%matplotlib inline\n",
    "\n",
    "import nltk\n",
    "nltk.downloader.download('vader_lexicon')\n",
    "import string\n",
    "from nltk.corpus import stopwords\n",
    "from nltk.tokenize import sent_tokenize\n",
    "from nltk.sentiment import SentimentIntensityAnalyzer"
   ]
  },
  {
   "cell_type": "markdown",
   "metadata": {},
   "source": [
    "## VADER ( Valence Aware Dictionary for Sentiment Reasoning)\n",
    "- VADER is a model used for text sentiment analysis that is sensitive to both polarity (positive/negative) and intensity (strength) of emotion. It is available in the NLTK package and can be applied directly to unlabeled text data."
   ]
  },
  {
   "cell_type": "markdown",
   "metadata": {},
   "source": [
    "- VADER sentimental analysis relies on a dictionary that maps lexical features to emotion intensities known as sentiment scores. The sentiment score of a text can be obtained by summing up the intensity of each word in the text. Resource for inspiration and definition: https://towardsdatascience.com/sentimental-analysis-using-vader-a3415fef7664"
   ]
  },
  {
   "cell_type": "code",
   "execution_count": 3,
   "metadata": {
    "scrolled": true
   },
   "outputs": [
    {
     "data": {
      "text/html": [
       "<div>\n",
       "<style scoped>\n",
       "    .dataframe tbody tr th:only-of-type {\n",
       "        vertical-align: middle;\n",
       "    }\n",
       "\n",
       "    .dataframe tbody tr th {\n",
       "        vertical-align: top;\n",
       "    }\n",
       "\n",
       "    .dataframe thead th {\n",
       "        text-align: right;\n",
       "    }\n",
       "</style>\n",
       "<table border=\"1\" class=\"dataframe\">\n",
       "  <thead>\n",
       "    <tr style=\"text-align: right;\">\n",
       "      <th></th>\n",
       "      <th>document</th>\n",
       "      <th>id</th>\n",
       "      <th>affiliation</th>\n",
       "      <th>name</th>\n",
       "      <th>title</th>\n",
       "      <th>type</th>\n",
       "      <th>section</th>\n",
       "      <th>text</th>\n",
       "    </tr>\n",
       "  </thead>\n",
       "  <tbody>\n",
       "    <tr>\n",
       "      <th>0</th>\n",
       "      <td>2020/20200103-2337625-C.xml</td>\n",
       "      <td>0</td>\n",
       "      <td>NaN</td>\n",
       "      <td>Operator</td>\n",
       "      <td>NaN</td>\n",
       "      <td>operator</td>\n",
       "      <td>MANAGEMENT DISCUSSION SECTION</td>\n",
       "      <td>[\"Good day, and welcome to the Lamb Weston Sec...</td>\n",
       "    </tr>\n",
       "    <tr>\n",
       "      <th>1</th>\n",
       "      <td>2020/20200103-2337625-C.xml</td>\n",
       "      <td>1</td>\n",
       "      <td>Lamb Weston Holdings, Inc.</td>\n",
       "      <td>Dexter Congbalay</td>\n",
       "      <td>Vice President-Investor Relations</td>\n",
       "      <td>corprep</td>\n",
       "      <td>MANAGEMENT DISCUSSION SECTION</td>\n",
       "      <td>[\"Good morning, and thank you for joining us f...</td>\n",
       "    </tr>\n",
       "    <tr>\n",
       "      <th>2</th>\n",
       "      <td>2020/20200103-2337625-C.xml</td>\n",
       "      <td>2</td>\n",
       "      <td>Lamb Weston Holdings, Inc.</td>\n",
       "      <td>Thomas P. Werner</td>\n",
       "      <td>President, Chief Executive Officer &amp; Director</td>\n",
       "      <td>corprep</td>\n",
       "      <td>MANAGEMENT DISCUSSION SECTION</td>\n",
       "      <td>[\"Thank you, Dexter. Happy New Year, everyone,...</td>\n",
       "    </tr>\n",
       "    <tr>\n",
       "      <th>3</th>\n",
       "      <td>2020/20200103-2337625-C.xml</td>\n",
       "      <td>3</td>\n",
       "      <td>Lamb Weston Holdings, Inc.</td>\n",
       "      <td>Robert M. McNutt</td>\n",
       "      <td>Chief Financial Officer &amp; Senior Vice President</td>\n",
       "      <td>corprep</td>\n",
       "      <td>MANAGEMENT DISCUSSION SECTION</td>\n",
       "      <td>['Thanks, Tom. Good morning, everyone. As Tom ...</td>\n",
       "    </tr>\n",
       "    <tr>\n",
       "      <th>4</th>\n",
       "      <td>2020/20200103-2337625-C.xml</td>\n",
       "      <td>2</td>\n",
       "      <td>Lamb Weston Holdings, Inc.</td>\n",
       "      <td>Thomas P. Werner</td>\n",
       "      <td>President, Chief Executive Officer &amp; Director</td>\n",
       "      <td>corprep</td>\n",
       "      <td>MANAGEMENT DISCUSSION SECTION</td>\n",
       "      <td>[\"Thank you, Rob. Let me sum up by saying we'r...</td>\n",
       "    </tr>\n",
       "  </tbody>\n",
       "</table>\n",
       "</div>"
      ],
      "text/plain": [
       "                      document  id                 affiliation  \\\n",
       "0  2020/20200103-2337625-C.xml   0                         NaN   \n",
       "1  2020/20200103-2337625-C.xml   1  Lamb Weston Holdings, Inc.   \n",
       "2  2020/20200103-2337625-C.xml   2  Lamb Weston Holdings, Inc.   \n",
       "3  2020/20200103-2337625-C.xml   3  Lamb Weston Holdings, Inc.   \n",
       "4  2020/20200103-2337625-C.xml   2  Lamb Weston Holdings, Inc.   \n",
       "\n",
       "               name                                            title  \\\n",
       "0          Operator                                              NaN   \n",
       "1  Dexter Congbalay                Vice President-Investor Relations   \n",
       "2  Thomas P. Werner    President, Chief Executive Officer & Director   \n",
       "3  Robert M. McNutt  Chief Financial Officer & Senior Vice President   \n",
       "4  Thomas P. Werner    President, Chief Executive Officer & Director   \n",
       "\n",
       "       type                        section  \\\n",
       "0  operator  MANAGEMENT DISCUSSION SECTION   \n",
       "1   corprep  MANAGEMENT DISCUSSION SECTION   \n",
       "2   corprep  MANAGEMENT DISCUSSION SECTION   \n",
       "3   corprep  MANAGEMENT DISCUSSION SECTION   \n",
       "4   corprep  MANAGEMENT DISCUSSION SECTION   \n",
       "\n",
       "                                                text  \n",
       "0  [\"Good day, and welcome to the Lamb Weston Sec...  \n",
       "1  [\"Good morning, and thank you for joining us f...  \n",
       "2  [\"Thank you, Dexter. Happy New Year, everyone,...  \n",
       "3  ['Thanks, Tom. Good morning, everyone. As Tom ...  \n",
       "4  [\"Thank you, Rob. Let me sum up by saying we'r...  "
      ]
     },
     "execution_count": 3,
     "metadata": {},
     "output_type": "execute_result"
    }
   ],
   "source": [
    "#data split from xml files\n",
    "\n",
    "file = \"../../Data/spy_2020.txt\"\n",
    "df = pd.read_csv(file, sep='|')\n",
    "del df['order']\n",
    "del df['response_type']\n",
    "del df['affiliation_entity']\n",
    "del df['entity']\n",
    "df = df.reset_index(drop=True)\n",
    "df.head()"
   ]
  },
  {
   "cell_type": "code",
   "execution_count": 4,
   "metadata": {},
   "outputs": [
    {
     "data": {
      "text/plain": [
       "Index(['document', 'id', 'affiliation', 'name', 'title', 'type', 'section',\n",
       "       'text'],\n",
       "      dtype='object')"
      ]
     },
     "execution_count": 4,
     "metadata": {},
     "output_type": "execute_result"
    }
   ],
   "source": [
    "df.columns"
   ]
  },
  {
   "cell_type": "code",
   "execution_count": 20,
   "metadata": {},
   "outputs": [],
   "source": [
    "# Filter out observations where Operator is speaking\n",
    "df = df[df['name']!='Operator']"
   ]
  },
  {
   "cell_type": "markdown",
   "metadata": {},
   "source": [
    "## Sentence level sentiment score\n",
    "\n",
    "- Neat to see how it handles a similar sentence with a single pos/neg word swaying the sentiment"
   ]
  },
  {
   "cell_type": "code",
   "execution_count": 42,
   "metadata": {},
   "outputs": [
    {
     "name": "stdout",
     "output_type": "stream",
     "text": [
      "{'neg': 0.292, 'neu': 0.708, 'pos': 0.0, 'compound': -0.5095}\n"
     ]
    }
   ],
   "source": [
    "sentence = \"This has been a really awful quarter for the firm\"\n",
    "sid = SentimentIntensityAnalyzer()\n",
    "ss = sid.polarity_scores(sentence)\n",
    "print(ss)"
   ]
  },
  {
   "cell_type": "code",
   "execution_count": 43,
   "metadata": {},
   "outputs": [
    {
     "name": "stdout",
     "output_type": "stream",
     "text": [
      "{'neg': 0.0, 'neu': 0.673, 'pos': 0.327, 'compound': 0.5984}\n"
     ]
    }
   ],
   "source": [
    "sentence = \"This has been a really fantastic quarter for the firm\"\n",
    "sid = SentimentIntensityAnalyzer()\n",
    "ss = sid.polarity_scores(sentence)\n",
    "print(ss)"
   ]
  },
  {
   "cell_type": "code",
   "execution_count": 44,
   "metadata": {},
   "outputs": [
    {
     "data": {
      "text/plain": [
       "36742"
      ]
     },
     "execution_count": 44,
     "metadata": {},
     "output_type": "execute_result"
    }
   ],
   "source": [
    "len(df)"
   ]
  },
  {
   "cell_type": "markdown",
   "metadata": {},
   "source": [
    "## Run Sentiment model using VADER lexicon"
   ]
  },
  {
   "cell_type": "code",
   "execution_count": 6,
   "metadata": {},
   "outputs": [
    {
     "name": "stdout",
     "output_type": "stream",
     "text": [
      "CPU times: user 31.5 s, sys: 105 ms, total: 31.6 s\n",
      "Wall time: 31.8 s\n"
     ]
    }
   ],
   "source": [
    "%%time\n",
    "analyzer = SentimentIntensityAnalyzer()\n",
    "\n",
    "i=0 #counter\n",
    "compval1 = [ ]  #empty list to hold our computed 'compound' VADER scores\n",
    "\n",
    "while (i<len(df)):\n",
    "    k = analyzer.polarity_scores(df.iloc[i]['text'])\n",
    "    compval1.append(k['compound'])\n",
    "    i = i+1\n",
    "    \n",
    "#converting sentiment values to numpy and then assign to df column\n",
    "compval1 = np.array(compval1)\n",
    "\n",
    "df['vader_score'] = compval1"
   ]
  },
  {
   "cell_type": "code",
   "execution_count": 21,
   "metadata": {},
   "outputs": [],
   "source": [
    "df_vader = df"
   ]
  },
  {
   "cell_type": "code",
   "execution_count": 8,
   "metadata": {
    "scrolled": false
   },
   "outputs": [
    {
     "data": {
      "text/plain": [
       "Text(0.5, 1.0, 'Earnings Call Sentiment Score')"
      ]
     },
     "execution_count": 8,
     "metadata": {},
     "output_type": "execute_result"
    },
    {
     "data": {
      "image/png": "[encoded data removed]",
      "text/plain": [
       "<Figure size 720x360 with 1 Axes>"
      ]
     },
     "metadata": {
      "needs_background": "light"
     },
     "output_type": "display_data"
    }
   ],
   "source": [
    "plt.figure(figsize=(10,5)) # Plot size\n",
    "plt.style.use('seaborn-whitegrid') # Style\n",
    "\n",
    "# Building a histogram\n",
    "n, bins, patches = plt.hist(df_vader['vader_score'], bins=20, \n",
    "                            facecolor='#2ab0ff', \n",
    "                            edgecolor='#e0e0e0', \n",
    "                            linewidth=0.5, \n",
    "                            alpha=0.7)\n",
    "\n",
    "# Changing properties of each bin\n",
    "n = n.astype('int') # n should be integer\n",
    "\n",
    "# Accessing each bin, changing color according to height\n",
    "for i in range(len(patches)):\n",
    "    patches[i].set_facecolor(plt.cm.viridis(n[i]/max(n)))\n",
    "\n",
    "plt.ylabel(\"Frequency\")\n",
    "plt.xlabel(\"Score\")\n",
    "plt.title(\"Earnings Call Sentiment Score\")"
   ]
  },
  {
   "cell_type": "markdown",
   "metadata": {},
   "source": [
    "## Split by Section"
   ]
  },
  {
   "cell_type": "markdown",
   "metadata": {},
   "source": [
    "Let's divide up our dataframe by call section to compare sentiment across: \n",
    "- the MD&A section (scripted) \n",
    "- the Q&A section (sell-side analysts asking live questions and management's \"off the cuff\" response)"
   ]
  },
  {
   "cell_type": "markdown",
   "metadata": {},
   "source": [
    "First, let look at the average for each group. \n",
    "\n",
    "We see a much higher average sentiment score in the \"scripted\" MD&A section. This is consistent with our understanding of prepared remarks, which often offer a rosier view of the company's performance."
   ]
  },
  {
   "cell_type": "code",
   "execution_count": 15,
   "metadata": {},
   "outputs": [
    {
     "data": {
      "text/plain": [
       "section\n",
       "MANAGEMENT DISCUSSION SECTION    0.859495\n",
       "Q&A                              0.443379\n",
       "Name: vader_score, dtype: float64"
      ]
     },
     "execution_count": 15,
     "metadata": {},
     "output_type": "execute_result"
    }
   ],
   "source": [
    "# groupby columns section and get mean of sentiment score for each\n",
    "df_vader.groupby(['section'])['vader_score'].mean()"
   ]
  },
  {
   "cell_type": "code",
   "execution_count": 17,
   "metadata": {},
   "outputs": [],
   "source": [
    "df_vader_mda = df_vader[df_vader['section'] == 'MANAGEMENT DISCUSSION SECTION']\n",
    "df_vader_qa = df_vader[df_vader['section'] == 'Q&A']"
   ]
  },
  {
   "cell_type": "code",
   "execution_count": 18,
   "metadata": {},
   "outputs": [
    {
     "data": {
      "text/plain": [
       "Text(0.5, 1.0, 'Earnings Call Sentiment Score - MD&A Section')"
      ]
     },
     "execution_count": 18,
     "metadata": {},
     "output_type": "execute_result"
    },
    {
     "data": {
      "image/png": "[encoded data removed]",
      "text/plain": [
       "<Figure size 720x360 with 1 Axes>"
      ]
     },
     "metadata": {},
     "output_type": "display_data"
    }
   ],
   "source": [
    "# Built same plot for MD&A and Q&A sections\n",
    "plt.figure(figsize=(10,5)) # Plot size\n",
    "plt.style.use('seaborn-whitegrid') # Style\n",
    "\n",
    "# Building a histogram\n",
    "n, bins, patches = plt.hist(df_vader_mda['vader_score'], bins=20, \n",
    "                            facecolor='#2ab0ff', \n",
    "                            edgecolor='#e0e0e0', \n",
    "                            linewidth=0.5, \n",
    "                            alpha=0.7)\n",
    "\n",
    "# Changing properties of each bin\n",
    "n = n.astype('int') # n should be integer\n",
    "\n",
    "# Accessing each bin, changing color according to height\n",
    "for i in range(len(patches)):\n",
    "    patches[i].set_facecolor(plt.cm.viridis(n[i]/max(n)))\n",
    "\n",
    "plt.ylabel(\"Frequency\")\n",
    "plt.xlabel(\"Score\")\n",
    "plt.title(\"Earnings Call Sentiment Score - MD&A Section\")\n",
    "\n"
   ]
  },
  {
   "cell_type": "code",
   "execution_count": 19,
   "metadata": {},
   "outputs": [
    {
     "data": {
      "text/plain": [
       "Text(0.5, 1.0, 'Earnings Call Sentiment Score - MD&A Section')"
      ]
     },
     "execution_count": 19,
     "metadata": {},
     "output_type": "execute_result"
    },
    {
     "data": {
      "image/png": "[encoded data removed]",
      "text/plain": [
       "<Figure size 720x360 with 1 Axes>"
      ]
     },
     "metadata": {},
     "output_type": "display_data"
    }
   ],
   "source": [
    "plt.figure(figsize=(10,5)) # Plot size\n",
    "plt.style.use('seaborn-whitegrid') # Style\n",
    "\n",
    "# Building a histogram\n",
    "n, bins, patches = plt.hist(df_vader_qa['vader_score'], bins=20, \n",
    "                            facecolor='#2ab0ff', \n",
    "                            edgecolor='#e0e0e0', \n",
    "                            linewidth=0.5, \n",
    "                            alpha=0.7)\n",
    "\n",
    "# Changing properties of each bin\n",
    "n = n.astype('int') # n should be integer\n",
    "\n",
    "# Accessing each bin, changing color according to height\n",
    "for i in range(len(patches)):\n",
    "    patches[i].set_facecolor(plt.cm.viridis(n[i]/max(n)))\n",
    "\n",
    "plt.ylabel(\"Frequency\")\n",
    "plt.xlabel(\"Score\")\n",
    "plt.title(\"Earnings Call Sentiment Score - MD&A Section\")"
   ]
  },
  {
   "cell_type": "markdown",
   "metadata": {},
   "source": [
    "## Takeaways:"
   ]
  },
  {
   "cell_type": "markdown",
   "metadata": {},
   "source": [
    "- The distribution of earnings call sentiment in this sample skews much more positive. Again this is seen more intensely with the MD&A section split, with management reading from prepared/rosier remarks\n",
    "- It is interesting that a huge bucket of observations have a sentiment score around 0, even in the non-scripted Q&A portion\n",
    "- It may yield more interesting results for future sentiment analysis if one focuses on just the Q&A section, given the wider distribution of sentiment scores."
   ]
  }
 ],
 "metadata": {
  "kernelspec": {
   "display_name": "Python 3",
   "language": "python",
   "name": "python3"
  },
  "language_info": {
   "codemirror_mode": {
    "name": "ipython",
    "version": 3
   },
   "file_extension": ".py",
   "mimetype": "text/x-python",
   "name": "python",
   "nbconvert_exporter": "python",
   "pygments_lexer": "ipython3",
   "version": "3.8.5"
  }
 },
 "nbformat": 4,
 "nbformat_minor": 4
}
